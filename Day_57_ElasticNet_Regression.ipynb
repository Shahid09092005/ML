{
  "nbformat": 4,
  "nbformat_minor": 0,
  "metadata": {
    "colab": {
      "provenance": []
    },
    "kernelspec": {
      "name": "python3",
      "display_name": "Python 3"
    },
    "language_info": {
      "name": "python"
    }
  },
  "cells": [
    {
      "cell_type": "code",
      "execution_count": 1,
      "metadata": {
        "id": "-1F1IEDdBGvc"
      },
      "outputs": [],
      "source": [
        "from sklearn.datasets import load_diabetes\n",
        "from sklearn.linear_model import LinearRegression,Ridge,Lasso,ElasticNet\n",
        "from sklearn.model_selection import train_test_split\n",
        "from sklearn.metrics import r2_score"
      ]
    },
    {
      "cell_type": "code",
      "source": [
        "X,y = load_diabetes(return_X_y=True)"
      ],
      "metadata": {
        "id": "rAc6NsqHBJS_"
      },
      "execution_count": 2,
      "outputs": []
    },
    {
      "cell_type": "code",
      "source": [
        "X_train,X_test,y_train,y_test = train_test_split(X,y,test_size=0.2,random_state=2)"
      ],
      "metadata": {
        "id": "nu_XrNjQBWm1"
      },
      "execution_count": 3,
      "outputs": []
    },
    {
      "cell_type": "markdown",
      "source": [
        "**Linear Regression**"
      ],
      "metadata": {
        "id": "zZ5z-dOABf-c"
      }
    },
    {
      "cell_type": "code",
      "source": [
        "# Linear Regression\n",
        "reg = LinearRegression()\n",
        "reg.fit(X_train,y_train)\n",
        "y_pred = reg.predict(X_test)\n",
        "r2_score(y_test,y_pred)"
      ],
      "metadata": {
        "colab": {
          "base_uri": "https://localhost:8080/"
        },
        "id": "59V6aw8CBYyy",
        "outputId": "dc7c1721-cc4f-4d5f-9091-068dd1d86180"
      },
      "execution_count": 4,
      "outputs": [
        {
          "output_type": "execute_result",
          "data": {
            "text/plain": [
              "0.4399338661568968"
            ]
          },
          "metadata": {},
          "execution_count": 4
        }
      ]
    },
    {
      "cell_type": "markdown",
      "source": [
        "**Rigde Regression**"
      ],
      "metadata": {
        "id": "bwXEsiu9BkGf"
      }
    },
    {
      "cell_type": "code",
      "source": [
        "# Ridge\n",
        "reg = Ridge(alpha=0.1)\n",
        "reg.fit(X_train,y_train)\n",
        "y_pred = reg.predict(X_test)\n",
        "r2_score(y_test,y_pred)"
      ],
      "metadata": {
        "colab": {
          "base_uri": "https://localhost:8080/"
        },
        "id": "N4DG-4mUBbum",
        "outputId": "6d6412f9-7c27-4848-9d11-fb570dd3390f"
      },
      "execution_count": 5,
      "outputs": [
        {
          "output_type": "execute_result",
          "data": {
            "text/plain": [
              "0.45199494197195456"
            ]
          },
          "metadata": {},
          "execution_count": 5
        }
      ]
    },
    {
      "cell_type": "markdown",
      "source": [
        "**Lasso Regression**"
      ],
      "metadata": {
        "id": "q4iQ0w9mBtfp"
      }
    },
    {
      "cell_type": "code",
      "source": [
        "# Lasso\n",
        "reg = Lasso(alpha=0.01)\n",
        "reg.fit(X_train,y_train)\n",
        "y_pred = reg.predict(X_test)\n",
        "r2_score(y_test,y_pred)"
      ],
      "metadata": {
        "colab": {
          "base_uri": "https://localhost:8080/"
        },
        "id": "bONxLgz0Br3Z",
        "outputId": "40ed69e2-24f4-4e36-d10a-ef0fc06e6aa8"
      },
      "execution_count": 6,
      "outputs": [
        {
          "output_type": "execute_result",
          "data": {
            "text/plain": [
              "0.44111855963110613"
            ]
          },
          "metadata": {},
          "execution_count": 6
        }
      ]
    },
    {
      "cell_type": "markdown",
      "source": [
        "**ElasticNet**"
      ],
      "metadata": {
        "id": "HdxlWVuaB2H3"
      }
    },
    {
      "cell_type": "code",
      "source": [
        "# ElasticNet\n",
        "reg = ElasticNet(alpha=0.005,l1_ratio=0.9)\n",
        "reg.fit(X_train,y_train)\n",
        "y_pred = reg.predict(X_test)\n",
        "r2_score(y_test,y_pred)"
      ],
      "metadata": {
        "colab": {
          "base_uri": "https://localhost:8080/"
        },
        "id": "tSom3c7xB1i6",
        "outputId": "67863882-e24a-4ac2-ac4e-90a8530518e8"
      },
      "execution_count": 9,
      "outputs": [
        {
          "output_type": "execute_result",
          "data": {
            "text/plain": [
              "0.4531474541554823"
            ]
          },
          "metadata": {},
          "execution_count": 9
        }
      ]
    },
    {
      "cell_type": "markdown",
      "source": [
        "**ElasticNet regression using SGDRegressor from the sklearn library**"
      ],
      "metadata": {
        "id": "nbXyzJOTCtxJ"
      }
    },
    {
      "cell_type": "code",
      "source": [
        "import numpy as np\n",
        "from sklearn.linear_model import SGDRegressor\n",
        "from sklearn.metrics import mean_squared_error\n"
      ],
      "metadata": {
        "id": "ANoS3a1gCu8t"
      },
      "execution_count": 10,
      "outputs": []
    },
    {
      "cell_type": "code",
      "source": [
        "# Initialize SGDRegressor\n",
        "elastic_net = SGDRegressor(penalty='elasticnet', alpha=0.01, l1_ratio=0.9, max_iter=1000, tol=1e-3)\n",
        "elastic_net.fit(X_train, y_train)\n",
        "y_pred = elastic_net.predict(X_test)\n",
        "r2 = r2_score(y_test, y_pred)\n",
        "print(f'r2_score is : {r2}')\n"
      ],
      "metadata": {
        "colab": {
          "base_uri": "https://localhost:8080/"
        },
        "id": "zbwOsCNbC6xj",
        "outputId": "be44ab29-954d-4b3e-ef5c-9b51b459eac5"
      },
      "execution_count": 15,
      "outputs": [
        {
          "output_type": "stream",
          "name": "stdout",
          "text": [
            "r2_score is : 0.38159756799737454\n"
          ]
        },
        {
          "output_type": "stream",
          "name": "stderr",
          "text": [
            "/usr/local/lib/python3.10/dist-packages/sklearn/linear_model/_stochastic_gradient.py:1616: ConvergenceWarning: Maximum number of iteration reached before convergence. Consider increasing max_iter to improve the fit.\n",
            "  warnings.warn(\n"
          ]
        }
      ]
    },
    {
      "cell_type": "code",
      "source": [],
      "metadata": {
        "id": "Vh5E6UHeE4DB"
      },
      "execution_count": null,
      "outputs": []
    }
  ]
}